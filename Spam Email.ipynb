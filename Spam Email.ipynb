{
 "cells": [
  {
   "cell_type": "markdown",
   "id": "bd48aea1",
   "metadata": {},
   "source": [
    "# Importing Dataset"
   ]
  },
  {
   "cell_type": "code",
   "execution_count": 1,
   "id": "bd33bed7",
   "metadata": {},
   "outputs": [],
   "source": [
    "import pandas as pd\n",
    "import seaborn as sns\n",
    "import matplotlib.pyplot as plt\n",
    "\n",
    "df = pd.read_csv(\"/Users/muskanoad/Downloads/mail_data.csv\")"
   ]
  },
  {
   "cell_type": "code",
   "execution_count": 2,
   "id": "8040dfb9",
   "metadata": {},
   "outputs": [
    {
     "name": "stdout",
     "output_type": "stream",
     "text": [
      "     Category                                            Message\n",
      "0         ham  Go until jurong point, crazy.. Available only ...\n",
      "1         ham                      Ok lar... Joking wif u oni...\n",
      "2        spam  Free entry in 2 a wkly comp to win FA Cup fina...\n",
      "3         ham  U dun say so early hor... U c already then say...\n",
      "4         ham  Nah I don't think he goes to usf, he lives aro...\n",
      "...       ...                                                ...\n",
      "5567     spam  This is the 2nd time we have tried 2 contact u...\n",
      "5568      ham               Will ü b going to esplanade fr home?\n",
      "5569      ham  Pity, * was in mood for that. So...any other s...\n",
      "5570      ham  The guy did some bitching but I acted like i'd...\n",
      "5571      ham                         Rofl. Its true to its name\n",
      "\n",
      "[5572 rows x 2 columns]\n"
     ]
    }
   ],
   "source": [
    "print(df)"
   ]
  },
  {
   "cell_type": "code",
   "execution_count": 3,
   "id": "03397b50",
   "metadata": {},
   "outputs": [
    {
     "name": "stdout",
     "output_type": "stream",
     "text": [
      "<class 'pandas.core.frame.DataFrame'>\n",
      "RangeIndex: 5572 entries, 0 to 5571\n",
      "Data columns (total 2 columns):\n",
      " #   Column    Non-Null Count  Dtype \n",
      "---  ------    --------------  ----- \n",
      " 0   Category  5572 non-null   object\n",
      " 1   Message   5572 non-null   object\n",
      "dtypes: object(2)\n",
      "memory usage: 87.2+ KB\n"
     ]
    }
   ],
   "source": [
    "df.info()"
   ]
  },
  {
   "cell_type": "markdown",
   "id": "7ac916d6",
   "metadata": {},
   "source": [
    "# Data Pre-processing"
   ]
  },
  {
   "cell_type": "code",
   "execution_count": 4,
   "id": "0292adba",
   "metadata": {},
   "outputs": [],
   "source": [
    "# Our dataset does not have any null or missing values.\n",
    "# Removing HTML tags, converting to lowercase, etc.\n",
    "\n",
    "df['Message'] = df['Message'].str.replace(r'<[^>]*>', '', regex=True).str.lower()"
   ]
  },
  {
   "cell_type": "code",
   "execution_count": 5,
   "id": "76bc3ae9",
   "metadata": {},
   "outputs": [
    {
     "name": "stdout",
     "output_type": "stream",
     "text": [
      "  Category                                            Message\n",
      "0      ham  go until jurong point, crazy.. available only ...\n",
      "1      ham                      ok lar... joking wif u oni...\n",
      "2     spam  free entry in 2 a wkly comp to win fa cup fina...\n",
      "3      ham  u dun say so early hor... u c already then say...\n",
      "4      ham  nah i don't think he goes to usf, he lives aro...\n"
     ]
    }
   ],
   "source": [
    "print(df.head(5))"
   ]
  },
  {
   "cell_type": "markdown",
   "id": "78bdccf7",
   "metadata": {},
   "source": [
    "# Feature Selection"
   ]
  },
  {
   "cell_type": "code",
   "execution_count": 6,
   "id": "b4150d78",
   "metadata": {},
   "outputs": [],
   "source": [
    "from sklearn.feature_extraction.text import TfidfVectorizer\n",
    "from sklearn.feature_selection import SelectKBest, chi2"
   ]
  },
  {
   "cell_type": "code",
   "execution_count": 7,
   "id": "f68486f7",
   "metadata": {},
   "outputs": [],
   "source": [
    "# Converting text data into TF-IDF feature vectors\n",
    "\n",
    "vectorizer = TfidfVectorizer(max_features=1000)  \n",
    "x = vectorizer.fit_transform(df['Message'])\n",
    "y = df['Category'] "
   ]
  },
  {
   "cell_type": "code",
   "execution_count": 8,
   "id": "ae2c8cc8",
   "metadata": {},
   "outputs": [],
   "source": [
    "# Applying Best First Feature Selection (BFS)\n",
    "\n",
    "selector = SelectKBest(chi2, k=500)  \n",
    "x_selected = selector.fit_transform(x, y)"
   ]
  },
  {
   "cell_type": "markdown",
   "id": "1034cf96",
   "metadata": {},
   "source": [
    "# Spam Filter Algorithms"
   ]
  },
  {
   "cell_type": "code",
   "execution_count": 9,
   "id": "f345df24",
   "metadata": {},
   "outputs": [],
   "source": [
    "from sklearn.model_selection import train_test_split\n",
    "from sklearn.naive_bayes import MultinomialNB\n",
    "from sklearn.tree import DecisionTreeClassifier\n",
    "from sklearn.metrics import accuracy_score, confusion_matrix"
   ]
  },
  {
   "cell_type": "code",
   "execution_count": 10,
   "id": "a4ef0d18",
   "metadata": {},
   "outputs": [],
   "source": [
    "x_train, x_test, y_train, y_test = train_test_split(x, y, test_size=0.3, random_state=42)\n",
    "\n",
    "# Initialize classifiers\n",
    "nb = MultinomialNB()\n",
    "dt = DecisionTreeClassifier()"
   ]
  },
  {
   "cell_type": "code",
   "execution_count": 11,
   "id": "0fade500",
   "metadata": {},
   "outputs": [],
   "source": [
    "# Train and evaluate Naive Bayes classifier\n",
    "\n",
    "nb.fit(x_train, y_train)\n",
    "y_pred_nb = nb.predict(x_test)\n",
    "accuracy_nb = accuracy_score(y_test, y_pred_nb)\n",
    "conf_matrix_nb = confusion_matrix(y_test, y_pred_nb)\n"
   ]
  },
  {
   "cell_type": "code",
   "execution_count": 12,
   "id": "987b0710",
   "metadata": {},
   "outputs": [],
   "source": [
    "# Train and evaluate Decision Tree classifier\n",
    "\n",
    "dt.fit(x_train, y_train)\n",
    "y_pred_dt = dt.predict(x_test)\n",
    "accuracy_dt = accuracy_score(y_test, y_pred_dt)\n",
    "conf_matrix_dt = confusion_matrix(y_test, y_pred_dt)"
   ]
  },
  {
   "cell_type": "code",
   "execution_count": null,
   "id": "096692fc",
   "metadata": {},
   "outputs": [],
   "source": []
  },
  {
   "cell_type": "markdown",
   "id": "d6ae56de",
   "metadata": {},
   "source": [
    "# Splitting the data into training & testing data"
   ]
  },
  {
   "cell_type": "code",
   "execution_count": 13,
   "id": "b0c4edc0",
   "metadata": {},
   "outputs": [],
   "source": [
    "# Already handled in the above step with train_test_split"
   ]
  },
  {
   "cell_type": "markdown",
   "id": "9631dceb",
   "metadata": {},
   "source": [
    "# Confusion Matrix"
   ]
  },
  {
   "cell_type": "code",
   "execution_count": 14,
   "id": "3c46269b",
   "metadata": {},
   "outputs": [
    {
     "data": {
      "image/png": "[encoded data removed]",
      "text/plain": [
       "<Figure size 640x480 with 2 Axes>"
      ]
     },
     "metadata": {},
     "output_type": "display_data"
    }
   ],
   "source": [
    "# Plot confusion matrix for Naive Bayes\n",
    "\n",
    "sns.heatmap(conf_matrix_nb, annot=True, fmt='d', cmap='Blues')\n",
    "plt.title('Confusion Matrix - Naive Bayes')\n",
    "plt.xlabel('Predicted')\n",
    "plt.ylabel('Actual')\n",
    "plt.show()\n"
   ]
  },
  {
   "cell_type": "code",
   "execution_count": 15,
   "id": "88859447",
   "metadata": {},
   "outputs": [
    {
     "data": {
      "image/png": "[encoded data removed]",
      "text/plain": [
       "<Figure size 640x480 with 2 Axes>"
      ]
     },
     "metadata": {},
     "output_type": "display_data"
    }
   ],
   "source": [
    "# Plot confusion matrix for Decision Tree\n",
    "\n",
    "sns.heatmap(conf_matrix_dt, annot=True, fmt='d', cmap='Blues')\n",
    "plt.title('Confusion Matrix - Decision Tree')\n",
    "plt.xlabel('Predicted')\n",
    "plt.ylabel('Actual')\n",
    "plt.show()"
   ]
  },
  {
   "cell_type": "markdown",
   "id": "2f60d91e",
   "metadata": {},
   "source": [
    "# Accuracy"
   ]
  },
  {
   "cell_type": "code",
   "execution_count": 16,
   "id": "2efe7688",
   "metadata": {},
   "outputs": [
    {
     "name": "stdout",
     "output_type": "stream",
     "text": [
      "Naive Bayes Accuracy: 0.9838516746411483\n",
      "Decision Tree Accuracy: 0.9671052631578947\n"
     ]
    }
   ],
   "source": [
    "print(f'Naive Bayes Accuracy: {accuracy_nb}')\n",
    "print(f'Decision Tree Accuracy: {accuracy_dt}')"
   ]
  },
  {
   "cell_type": "markdown",
   "id": "7bb1483c",
   "metadata": {},
   "source": [
    "# Predictive Model"
   ]
  },
  {
   "cell_type": "code",
   "execution_count": 17,
   "id": "f07c6ef0",
   "metadata": {},
   "outputs": [
    {
     "name": "stdout",
     "output_type": "stream",
     "text": [
      "The email is classified as: spam\n"
     ]
    }
   ],
   "source": [
    "import re\n",
    "import pickle\n",
    "\n",
    "def classify_email(email):\n",
    "    # Load the Naive Bayes model, TF-IDF vectorizer, and feature selector\n",
    "    with open('spam_classifier.pkl', 'rb') as model_file:\n",
    "        model = pickle.load(model_file)\n",
    "        \n",
    "    with open('vectorizer.pkl', 'rb') as vectorizer_file:\n",
    "        vectorizer = pickle.load(vectorizer_file)\n",
    "        \n",
    "    with open('selector.pkl', 'rb') as selector_file:\n",
    "        selector = pickle.load(selector_file)\n",
    "        \n",
    "    # Preprocess the email\n",
    "    email = email.lower()\n",
    "    email = re.sub(r'<[^>]*>', '', email)\n",
    "    \n",
    "    # Transform the email using the vectorizer\n",
    "    email_vectorized = vectorizer.transform([email])\n",
    "    \n",
    "    # Select the features using the selector\n",
    "    email_selected = selector.transform(email_vectorized)\n",
    "    \n",
    "    # Predict using the loaded model\n",
    "    prediction = model.predict(email_selected)\n",
    "    \n",
    "    return prediction[0]\n",
    "\n",
    "# Example usage\n",
    "email = \"Congratulations! You've won a $1,000 Walmart gift card. Go to http://bit.ly/12345 to claim now.\"\n",
    "print(f'The email is classified as: {classify_email(email)}')\n"
   ]
  },
  {
   "cell_type": "code",
   "execution_count": null,
   "id": "2d7f59d9",
   "metadata": {},
   "outputs": [],
   "source": []
  },
  {
   "cell_type": "code",
   "execution_count": null,
   "id": "481e46a3",
   "metadata": {},
   "outputs": [],
   "source": []
  }
 ],
 "metadata": {
  "kernelspec": {
   "display_name": "Python 3 (ipykernel)",
   "language": "python",
   "name": "python3"
  },
  "language_info": {
   "codemirror_mode": {
    "name": "ipython",
    "version": 3
   },
   "file_extension": ".py",
   "mimetype": "text/x-python",
   "name": "python",
   "nbconvert_exporter": "python",
   "pygments_lexer": "ipython3",
   "version": "3.10.9"
  }
 },
 "nbformat": 4,
 "nbformat_minor": 5
}
